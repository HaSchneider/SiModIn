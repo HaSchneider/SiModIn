{
 "cells": [
  {
   "cell_type": "code",
   "execution_count": 1,
   "id": "63db8a22",
   "metadata": {},
   "outputs": [],
   "source": [
    "from SimModel_gas_turbine import tespy_model\n",
    "from simodin import interface as link\n"
   ]
  },
  {
   "cell_type": "code",
   "execution_count": 2,
   "id": "e91b8121",
   "metadata": {},
   "outputs": [],
   "source": [
    "my_model= tespy_model('gas turbine')"
   ]
  },
  {
   "cell_type": "code",
   "execution_count": 3,
   "id": "368711f9",
   "metadata": {},
   "outputs": [
    {
     "name": "stdout",
     "output_type": "stream",
     "text": [
      "\n",
      " iter  | residual   | progress   | massflow   | pressure   | enthalpy   | fluid      | component  \n",
      "-------+------------+------------+------------+------------+------------+------------+------------\n",
      " 1     | 3.27e+07   | 0 %        | 5.03e+01   | 0.00e+00   | 4.76e+08   | 1.34e+01   | 1.25e+09   \n",
      " 2     | 9.16e+08   | 0 %        | 4.49e+01   | 0.00e+00   | 6.75e+05   | 3.63e-02   | 1.23e+09   \n",
      " 3     | 1.51e+07   | 0 %        | 1.36e-09   | 0.00e+00   | 1.56e+06   | 1.95e-01   | 2.33e+07   \n",
      " 4     | 9.19e+05   | 0 %        | 1.25e-13   | 0.00e+00   | 2.86e+05   | 1.10e-07   | 4.65e+05   \n",
      " 5     | 2.57e+02   | 39 %       | 3.24e-14   | 0.00e+00   | 2.57e+02   | 1.10e-07   | 1.95e+03   \n",
      " 6     | 3.98e-03   | 93 %       | 1.85e-14   | 0.00e+00   | 5.91e-08   | 1.10e-07   | 2.50e-03   \n",
      " 7     | 5.92e-07   | 100 %      | 7.65e-15   | 0.00e+00   | 8.29e-10   | 1.10e-07   | 1.17e-08   \n",
      " 8     | 5.92e-07   | 100 %      | 8.73e-15   | 0.00e+00   | 3.48e-09   | 1.10e-07   | 1.86e-08   \n",
      "Total iterations: 8, Calculation time: 0.49 s, Iterations per second: 16.43\n"
     ]
    },
    {
     "name": "stderr",
     "output_type": "stream",
     "text": [
      "The pressure at inlet 2 is lower than the pressure at the outlet of component combustion chamber.\n"
     ]
    },
    {
     "name": "stdout",
     "output_type": "stream",
     "text": [
      "\n",
      " iter  | residual   | progress   | massflow   | pressure   | enthalpy   | fluid      | component  \n",
      "-------+------------+------------+------------+------------+------------+------------+------------\n",
      " 1     | 2.96e+03   | 28 %       | 1.20e-14   | 0.00e+00   | 6.41e+02   | 1.10e-07   | 1.68e+03   \n",
      " 2     | 4.25e-03   | 93 %       | 9.42e-15   | 0.00e+00   | 2.50e-03   | 1.10e-07   | 1.82e-02   \n",
      " 3     | 5.93e-07   | 100 %      | 8.50e-15   | 0.00e+00   | 4.00e-10   | 1.10e-07   | 2.08e-08   \n",
      " 4     | 5.92e-07   | 100 %      | 9.11e-15   | 0.00e+00   | 7.46e-10   | 1.10e-07   | 3.99e-09   \n",
      "Total iterations: 4, Calculation time: 0.18 s, Iterations per second: 21.66\n"
     ]
    },
    {
     "data": {
      "text/plain": [
       "{'air source': technosphere_edge(edge_type=<QuantitativeEdgeTypes.technosphere: 'technosphere'>, source=None, target=<SimModel_gas_turbine.tespy_model object at 0x000001BBE42F6E70>, comment=None, tags=None, properties=None, name='air source', amount=<Quantity(18608.6771, 'kilogram')>, uncertainty_type=None, loc=None, scale=None, shape=None, minimum=None, maximum=None, negative=None, description=None, dataset_correction=None, functional=False, model_unit=None, dataset_unit=None, allocationfactor=1.0, type=<technosphereTypes.input: 'input'>),\n",
       " 'fuel source': technosphere_edge(edge_type=<QuantitativeEdgeTypes.technosphere: 'technosphere'>, source=None, target=<SimModel_gas_turbine.tespy_model object at 0x000001BBE42F6E70>, comment=None, tags=None, properties=None, name='fuel source', amount=<Quantity(68.5524164, 'meter ** 3')>, uncertainty_type=None, loc=None, scale=None, shape=None, minimum=None, maximum=None, negative=None, description=None, dataset_correction=None, functional=False, model_unit=None, dataset_unit=None, allocationfactor=1.0, type=<technosphereTypes.input: 'input'>),\n",
       " 'grid': technosphere_edge(edge_type=<QuantitativeEdgeTypes.technosphere: 'technosphere'>, source=<SimModel_gas_turbine.tespy_model object at 0x000001BBE42F6E70>, target=None, comment=None, tags=None, properties=None, name='grid', amount=<Quantity(13994.0027, 'megajoule')>, uncertainty_type=None, loc=None, scale=None, shape=None, minimum=None, maximum=None, negative=None, description=None, dataset_correction=None, functional=True, model_unit=None, dataset_unit=None, allocationfactor=1.0, type=<technosphereTypes.output: 'output'>)}"
      ]
     },
     "execution_count": 3,
     "metadata": {},
     "output_type": "execute_result"
    }
   ],
   "source": [
    "my_model.init_model()\n",
    "my_model.calculate_model()\n",
    "my_model.technosphere"
   ]
  },
  {
   "cell_type": "code",
   "execution_count": 4,
   "id": "e2ec1491",
   "metadata": {},
   "outputs": [],
   "source": [
    "\n",
    "my_interface= link.modelInterface('gas turbine',my_model)"
   ]
  },
  {
   "cell_type": "code",
   "execution_count": 5,
   "id": "c4600bd3",
   "metadata": {},
   "outputs": [
    {
     "data": {
      "text/plain": [
       "{'flue gas sink': biosphere_edge(edge_type=<QuantitativeEdgeTypes.biosphere: 'biosphere'>, source=<SimModel_gas_turbine.tespy_model object at 0x000001BBE42F6E70>, target=None, comment=None, tags=None, properties=None, name='flue gas sink', amount=<Quantity(2011.54688, 'kilogram')>, uncertainty_type=None, loc=None, scale=None, shape=None, minimum=None, maximum=None, negative=None, description=None, dataset_correction=None, model_unit=None, dataset_unit=None)}"
      ]
     },
     "execution_count": 5,
     "metadata": {},
     "output_type": "execute_result"
    }
   ],
   "source": [
    "my_interface.biosphere"
   ]
  },
  {
   "cell_type": "code",
   "execution_count": 6,
   "id": "c672d600",
   "metadata": {},
   "outputs": [],
   "source": [
    "import bw2data as bd\n",
    "\n",
    "bd.projects.set_current('bw_meets_tespy')\n",
    "my_interface.methods=[('ecoinvent-3.11',  'EF v3.1',  'climate change',  'global warming potential (GWP100)')]\n",
    "\n",
    "ei=bd.Database('ecoinvent-3.11-cutoff')\n",
    "bio= bd.Database('ecoinvent-3.11-biosphere')"
   ]
  },
  {
   "cell_type": "code",
   "execution_count": 7,
   "id": "8b11f141",
   "metadata": {},
   "outputs": [
    {
     "data": {
      "text/plain": [
       "'natural gas, high pressure, domestic supply with seasonal storage' (cubic meter, DE, None)"
      ]
     },
     "execution_count": 7,
     "metadata": {},
     "output_type": "execute_result"
    }
   ],
   "source": [
    "ei_gas=[act for act in ei if 'natural gas, high pressure, domestic supply with seasonal storage' in act['name']\n",
    " and 'DE' in act['location']\n",
    "  ][0]\n",
    "ei_gas"
   ]
  },
  {
   "cell_type": "code",
   "execution_count": 8,
   "id": "c8309c83",
   "metadata": {},
   "outputs": [],
   "source": [
    "my_interface.technosphere['fuel source'].source=ei_gas"
   ]
  },
  {
   "cell_type": "code",
   "execution_count": 9,
   "id": "eb81c965",
   "metadata": {},
   "outputs": [],
   "source": [
    "bio_flow= [fl for fl in bio if 'Carbon dioxide, fossil' in fl['name']][0]"
   ]
  },
  {
   "cell_type": "code",
   "execution_count": 10,
   "id": "1ece8c58",
   "metadata": {},
   "outputs": [],
   "source": [
    "my_interface.biosphere['flue gas sink'].target=bio_flow"
   ]
  },
  {
   "cell_type": "code",
   "execution_count": 11,
   "id": "c6162cd1",
   "metadata": {},
   "outputs": [],
   "source": [
    "my_interface.calculate_background_impact()"
   ]
  },
  {
   "cell_type": "code",
   "execution_count": 12,
   "id": "20a119e1",
   "metadata": {},
   "outputs": [
    {
     "name": "stderr",
     "output_type": "stream",
     "text": [
      "UserWarning: The dataset of grid got no valid Pint Unit. Ignore unit transformation.\n"
     ]
    },
    {
     "data": {
      "text/plain": [
       "{('ecoinvent-3.11',\n",
       "  'EF v3.1',\n",
       "  'climate change',\n",
       "  'global warming potential (GWP100)'): {'grid': 0.14497014535616926}}"
      ]
     },
     "execution_count": 12,
     "metadata": {},
     "output_type": "execute_result"
    }
   ],
   "source": [
    "my_interface.calculate_impact()"
   ]
  },
  {
   "cell_type": "code",
   "execution_count": 13,
   "id": "f8f9fe70",
   "metadata": {},
   "outputs": [],
   "source": [
    "my_interface.technosphere['grid'].model_unit"
   ]
  },
  {
   "cell_type": "code",
   "execution_count": 14,
   "id": "0616788a",
   "metadata": {},
   "outputs": [],
   "source": [
    "code= my_interface.export_to_bw()"
   ]
  },
  {
   "cell_type": "code",
   "execution_count": 15,
   "id": "d7c35829",
   "metadata": {},
   "outputs": [
    {
     "data": {
      "text/plain": [
       "'gas turbine_grid_2025-07-29 11:06:29.267426'"
      ]
     },
     "execution_count": 15,
     "metadata": {},
     "output_type": "execute_result"
    }
   ],
   "source": [
    "code"
   ]
  },
  {
   "cell_type": "code",
   "execution_count": null,
   "id": "24a8c127",
   "metadata": {},
   "outputs": [],
   "source": []
  }
 ],
 "metadata": {
  "kernelspec": {
   "display_name": "utility_lca",
   "language": "python",
   "name": "python3"
  },
  "language_info": {
   "codemirror_mode": {
    "name": "ipython",
    "version": 3
   },
   "file_extension": ".py",
   "mimetype": "text/x-python",
   "name": "python",
   "nbconvert_exporter": "python",
   "pygments_lexer": "ipython3",
   "version": "3.12.9"
  }
 },
 "nbformat": 4,
 "nbformat_minor": 5
}
