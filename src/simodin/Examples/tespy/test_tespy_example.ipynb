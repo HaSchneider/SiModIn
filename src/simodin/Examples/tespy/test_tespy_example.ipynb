{
 "cells": [
  {
   "cell_type": "code",
   "execution_count": 2,
   "id": "63db8a22",
   "metadata": {},
   "outputs": [],
   "source": [
    "from tespy_example import tespy_model\n",
    "from simodin import interface as link"
   ]
  },
  {
   "cell_type": "code",
   "execution_count": 4,
   "id": "e91b8121",
   "metadata": {},
   "outputs": [],
   "source": [
    "my_model= tespy_model('powerplant')"
   ]
  },
  {
   "cell_type": "code",
   "execution_count": null,
   "id": "368711f9",
   "metadata": {},
   "outputs": [],
   "source": [
    "my_model.init_model()\n",
    "my_model.calculate_model()\n",
    "my_model.technosphere"
   ]
  },
  {
   "cell_type": "code",
   "execution_count": null,
   "id": "c9c7e1df",
   "metadata": {},
   "outputs": [
    {
     "data": {
      "text/plain": [
       "{'cooling water sink': technosphere_edge(edge_type=<QuantitativeEdgeTypes.technosphere: 'technosphere'>, source=<tespy_example.tespy_model object at 0x000002B33823E480>, target=None, comment=None, tags=None, properties=None, name='cooling water sink', amount=<Quantity(9228.60362, 'kilogram')>, uncertainty_type=None, loc=None, scale=None, shape=None, minimum=None, maximum=None, negative=None, description=None, dataset_correction=None, functional=False, model_unit=None, dataset_unit=None, allocationfactor=1.0, type=<technosphereTypes.output: 'output'>),\n",
       " 'cooling water source': technosphere_edge(edge_type=<QuantitativeEdgeTypes.technosphere: 'technosphere'>, source=None, target=<tespy_example.tespy_model object at 0x000002B33823E480>, comment=None, tags=None, properties=None, name='cooling water source', amount=<Quantity(9228.60362, 'kilogram')>, uncertainty_type=None, loc=None, scale=None, shape=None, minimum=None, maximum=None, negative=None, description=None, dataset_correction=None, functional=False, model_unit=None, dataset_unit=None, allocationfactor=1.0, type=<technosphereTypes.input: 'input'>),\n",
       " 'grid': technosphere_edge(edge_type=<QuantitativeEdgeTypes.technosphere: 'technosphere'>, source=<tespy_example.tespy_model object at 0x000002B33823E480>, target=None, comment=None, tags=None, properties=None, name='grid', amount=<Quantity(2.49734098e+08, 'watt * second')>, uncertainty_type=None, loc=None, scale=None, shape=None, minimum=None, maximum=None, negative=None, description=None, dataset_correction=None, functional=True, model_unit=None, dataset_unit=None, allocationfactor=1.0, type=<technosphereTypes.output: 'output'>),\n",
       " 'heat source': technosphere_edge(edge_type=<QuantitativeEdgeTypes.technosphere: 'technosphere'>, source=None, target=<tespy_example.tespy_model object at 0x000002B33823E480>, comment=None, tags=None, properties=None, name='heat source', amount=<Quantity(5.57801957e+08, 'watt * second')>, uncertainty_type=None, loc=None, scale=None, shape=None, minimum=None, maximum=None, negative=None, description=None, dataset_correction=None, functional=False, model_unit=None, dataset_unit=None, allocationfactor=1.0, type=<technosphereTypes.input: 'input'>)}"
      ]
     },
     "execution_count": 7,
     "metadata": {},
     "output_type": "execute_result"
    }
   ],
   "source": []
  },
  {
   "cell_type": "code",
   "execution_count": 8,
   "id": "e2ec1491",
   "metadata": {},
   "outputs": [],
   "source": [
    "\n",
    "my_interface= link.modelInterface('tespy powerplant',my_model)"
   ]
  },
  {
   "cell_type": "code",
   "execution_count": null,
   "id": "c6162cd1",
   "metadata": {},
   "outputs": [],
   "source": []
  }
 ],
 "metadata": {
  "kernelspec": {
   "display_name": "utility_lca",
   "language": "python",
   "name": "python3"
  },
  "language_info": {
   "codemirror_mode": {
    "name": "ipython",
    "version": 3
   },
   "file_extension": ".py",
   "mimetype": "text/x-python",
   "name": "python",
   "nbconvert_exporter": "python",
   "pygments_lexer": "ipython3",
   "version": "3.12.9"
  }
 },
 "nbformat": 4,
 "nbformat_minor": 5
}
