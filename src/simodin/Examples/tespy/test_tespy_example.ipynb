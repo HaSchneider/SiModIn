{
 "cells": [
  {
   "cell_type": "code",
   "execution_count": 1,
   "id": "63db8a22",
   "metadata": {},
   "outputs": [],
   "source": [
    "from tespy_example import tespy_model\n",
    "from simodin import interface as link\n"
   ]
  },
  {
   "cell_type": "code",
   "execution_count": 2,
   "id": "e91b8121",
   "metadata": {},
   "outputs": [],
   "source": [
    "my_model= tespy_model('powerplant')"
   ]
  },
  {
   "cell_type": "code",
   "execution_count": 3,
   "id": "368711f9",
   "metadata": {},
   "outputs": [
    {
     "data": {
      "text/plain": [
       "{'cooling water sink': technosphere_edge(edge_type=<QuantitativeEdgeTypes.technosphere: 'technosphere'>, source=<tespy_example.tespy_model object at 0x0000020C0CCACBC0>, target=None, comment=None, tags=None, properties=None, name='cooling water sink', amount=<Quantity(33222973.0, 'kilogram')>, uncertainty_type=None, loc=None, scale=None, shape=None, minimum=None, maximum=None, negative=None, description=None, dataset_correction=None, functional=False, model_unit=None, dataset_unit=None, allocationfactor=1.0, type=<technosphereTypes.output: 'output'>),\n",
       " 'cooling water source': technosphere_edge(edge_type=<QuantitativeEdgeTypes.technosphere: 'technosphere'>, source=None, target=<tespy_example.tespy_model object at 0x0000020C0CCACBC0>, comment=None, tags=None, properties=None, name='cooling water source', amount=<Quantity(33222973.0, 'kilogram')>, uncertainty_type=None, loc=None, scale=None, shape=None, minimum=None, maximum=None, negative=None, description=None, dataset_correction=None, functional=False, model_unit=None, dataset_unit=None, allocationfactor=1.0, type=<technosphereTypes.input: 'input'>),\n",
       " 'grid': technosphere_edge(edge_type=<QuantitativeEdgeTypes.technosphere: 'technosphere'>, source=<tespy_example.tespy_model object at 0x0000020C0CCACBC0>, target=None, comment=None, tags=None, properties=None, name='grid', amount=<Quantity(899042.752, 'megajoule')>, uncertainty_type=None, loc=None, scale=None, shape=None, minimum=None, maximum=None, negative=None, description=None, dataset_correction=None, functional=True, model_unit=None, dataset_unit=None, allocationfactor=1.0, type=<technosphereTypes.output: 'output'>),\n",
       " 'heat source': technosphere_edge(edge_type=<QuantitativeEdgeTypes.technosphere: 'technosphere'>, source=None, target=<tespy_example.tespy_model object at 0x0000020C0CCACBC0>, comment=None, tags=None, properties=None, name='heat source', amount=<Quantity(2008087.04, 'megajoule')>, uncertainty_type=None, loc=None, scale=None, shape=None, minimum=None, maximum=None, negative=None, description=None, dataset_correction=None, functional=False, model_unit=None, dataset_unit=None, allocationfactor=1.0, type=<technosphereTypes.input: 'input'>)}"
      ]
     },
     "execution_count": 3,
     "metadata": {},
     "output_type": "execute_result"
    }
   ],
   "source": [
    "my_model.init_model()\n",
    "my_model.calculate_model()\n",
    "my_model.technosphere"
   ]
  },
  {
   "cell_type": "code",
   "execution_count": 4,
   "id": "e2ec1491",
   "metadata": {},
   "outputs": [],
   "source": [
    "\n",
    "my_interface= link.modelInterface('tespy powerplant',my_model)"
   ]
  },
  {
   "cell_type": "code",
   "execution_count": 5,
   "id": "c4600bd3",
   "metadata": {},
   "outputs": [
    {
     "data": {
      "text/plain": [
       "{'cooling water sink': technosphere_edge(edge_type=<QuantitativeEdgeTypes.technosphere: 'technosphere'>, source=<tespy_example.tespy_model object at 0x0000020C0CCACBC0>, target=None, comment=None, tags=None, properties=None, name='cooling water sink', amount=<Quantity(33222973.0, 'kilogram')>, uncertainty_type=None, loc=None, scale=None, shape=None, minimum=None, maximum=None, negative=None, description=None, dataset_correction=None, functional=False, model_unit=None, dataset_unit=None, allocationfactor=1.0, type=<technosphereTypes.output: 'output'>),\n",
       " 'cooling water source': technosphere_edge(edge_type=<QuantitativeEdgeTypes.technosphere: 'technosphere'>, source=None, target=<tespy_example.tespy_model object at 0x0000020C0CCACBC0>, comment=None, tags=None, properties=None, name='cooling water source', amount=<Quantity(33222973.0, 'kilogram')>, uncertainty_type=None, loc=None, scale=None, shape=None, minimum=None, maximum=None, negative=None, description=None, dataset_correction=None, functional=False, model_unit=None, dataset_unit=None, allocationfactor=1.0, type=<technosphereTypes.input: 'input'>),\n",
       " 'grid': technosphere_edge(edge_type=<QuantitativeEdgeTypes.technosphere: 'technosphere'>, source=<tespy_example.tespy_model object at 0x0000020C0CCACBC0>, target=None, comment=None, tags=None, properties=None, name='grid', amount=<Quantity(899042.752, 'megajoule')>, uncertainty_type=None, loc=None, scale=None, shape=None, minimum=None, maximum=None, negative=None, description=None, dataset_correction=None, functional=True, model_unit=None, dataset_unit=None, allocationfactor=1.0, type=<technosphereTypes.output: 'output'>),\n",
       " 'heat source': technosphere_edge(edge_type=<QuantitativeEdgeTypes.technosphere: 'technosphere'>, source=None, target=<tespy_example.tespy_model object at 0x0000020C0CCACBC0>, comment=None, tags=None, properties=None, name='heat source', amount=<Quantity(2008087.04, 'megajoule')>, uncertainty_type=None, loc=None, scale=None, shape=None, minimum=None, maximum=None, negative=None, description=None, dataset_correction=None, functional=False, model_unit=None, dataset_unit=None, allocationfactor=1.0, type=<technosphereTypes.input: 'input'>)}"
      ]
     },
     "execution_count": 5,
     "metadata": {},
     "output_type": "execute_result"
    }
   ],
   "source": [
    "my_interface.technosphere"
   ]
  },
  {
   "cell_type": "code",
   "execution_count": 6,
   "id": "c672d600",
   "metadata": {},
   "outputs": [],
   "source": [
    "import bw2data as bd\n",
    "\n",
    "bd.projects.set_current('bw_meets_tespy')\n",
    "my_interface.methods=[('ecoinvent-3.11',  'EF v3.1',  'climate change',  'global warming potential (GWP100)')]\n",
    "\n",
    "ei=bd.Database('ecoinvent-3.11-cutoff')"
   ]
  },
  {
   "cell_type": "code",
   "execution_count": 7,
   "id": "8b11f141",
   "metadata": {},
   "outputs": [
    {
     "data": {
      "text/plain": [
       "'heat production, at hard coal industrial furnace 1-10MW' (megajoule, Europe without Switzerland, None)"
      ]
     },
     "execution_count": 7,
     "metadata": {},
     "output_type": "execute_result"
    }
   ],
   "source": [
    "ei_steam=[act for act in ei if 'heat production, at hard coal industrial furnace 1-10MW' in act['name']\n",
    " and 'Europe without Switzerland' in act['location']\n",
    "  ][0]\n",
    "ei_steam"
   ]
  },
  {
   "cell_type": "code",
   "execution_count": 8,
   "id": "c8309c83",
   "metadata": {},
   "outputs": [],
   "source": [
    "my_interface.technosphere['heat source'].source=ei_steam"
   ]
  },
  {
   "cell_type": "code",
   "execution_count": 9,
   "id": "eb81c965",
   "metadata": {},
   "outputs": [
    {
     "data": {
      "text/plain": [
       "'market for tap water' (kilogram, Europe without Switzerland, None)"
      ]
     },
     "execution_count": 9,
     "metadata": {},
     "output_type": "execute_result"
    }
   ],
   "source": [
    "ei_water=[act for act in ei if 'market for tap water' in act['name']\n",
    " and 'Europe without Switzerland' in act['location']\n",
    "  ][0]\n",
    "ei_water"
   ]
  },
  {
   "cell_type": "code",
   "execution_count": 10,
   "id": "1ece8c58",
   "metadata": {},
   "outputs": [],
   "source": [
    "my_interface.technosphere['cooling water source'].source=ei_water\n",
    "my_interface.technosphere['cooling water source'].dataset_correction = 0.1 #blowdown rate"
   ]
  },
  {
   "cell_type": "code",
   "execution_count": 11,
   "id": "c6162cd1",
   "metadata": {},
   "outputs": [],
   "source": [
    "my_interface.calculate_background_impact()"
   ]
  },
  {
   "cell_type": "code",
   "execution_count": 12,
   "id": "20a119e1",
   "metadata": {},
   "outputs": [
    {
     "name": "stderr",
     "output_type": "stream",
     "text": [
      "UserWarning: The dataset of grid got no valid Pint Unit. Ignore unit transformation.\n"
     ]
    },
    {
     "data": {
      "text/plain": [
       "{('ecoinvent-3.11',\n",
       "  'EF v3.1',\n",
       "  'climate change',\n",
       "  'global warming potential (GWP100)'): {'grid': 0.30335576465477276}}"
      ]
     },
     "execution_count": 12,
     "metadata": {},
     "output_type": "execute_result"
    }
   ],
   "source": [
    "my_interface.calculate_impact()"
   ]
  },
  {
   "cell_type": "code",
   "execution_count": 13,
   "id": "f8f9fe70",
   "metadata": {},
   "outputs": [],
   "source": [
    "\n",
    "my_interface.technosphere['grid'].model_unit"
   ]
  },
  {
   "cell_type": "code",
   "execution_count": null,
   "id": "0616788a",
   "metadata": {},
   "outputs": [],
   "source": []
  }
 ],
 "metadata": {
  "kernelspec": {
   "display_name": "utility_lca",
   "language": "python",
   "name": "python3"
  },
  "language_info": {
   "codemirror_mode": {
    "name": "ipython",
    "version": 3
   },
   "file_extension": ".py",
   "mimetype": "text/x-python",
   "name": "python",
   "nbconvert_exporter": "python",
   "pygments_lexer": "ipython3",
   "version": "3.12.9"
  }
 },
 "nbformat": 4,
 "nbformat_minor": 5
}
